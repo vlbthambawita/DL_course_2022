{
  "nbformat": 4,
  "nbformat_minor": 0,
  "metadata": {
    "colab": {
      "provenance": [],
      "collapsed_sections": [],
      "toc_visible": true,
      "authorship_tag": "ABX9TyNeE0EDo86k8VwZp/09AhO/",
      "include_colab_link": true
    },
    "kernelspec": {
      "name": "python3",
      "display_name": "Python 3"
    },
    "language_info": {
      "name": "python"
    }
  },
  "cells": [
    {
      "cell_type": "markdown",
      "metadata": {
        "id": "view-in-github",
        "colab_type": "text"
      },
      "source": [
        "<a href=\"https://colab.research.google.com/github/vlbthambawita/DL_course_2022/blob/main/Week_02_Pytorch_basics.ipynb\" target=\"_parent\"><img src=\"https://colab.research.google.com/assets/colab-badge.svg\" alt=\"Open In Colab\"/></a>"
      ]
    },
    {
      "cell_type": "markdown",
      "source": [
        "\n",
        "\n",
        "Ref - Raschka, Sebastian; Liu, Yuxi (Hayden); Mirjalili, Vahid. Machine Learning with PyTorch and Scikit-Learn: Develop machine learning and deep learning models with Python  \n",
        "# Why Pytorch?"
      ],
      "metadata": {
        "id": "1gOpkKSXaQDs"
      }
    },
    {
      "cell_type": "markdown",
      "source": [
        "![Image](https://drive.google.com/uc?id=1SSXSbeZVx5hd_i4yvc5BwyGhc-m6s-bV)\n"
      ],
      "metadata": {
        "id": "sLPp8KnTaU5w"
      }
    },
    {
      "cell_type": "markdown",
      "source": [
        "Pytorch ecosystem:  https://pytorch.org/ecosystem/ "
      ],
      "metadata": {
        "id": "bgFKDQxdbx1V"
      }
    },
    {
      "cell_type": "markdown",
      "source": [
        "# Pytorch tensors\n",
        "\n",
        "![image](https://drive.google.com/uc?id=12Z5Y95uFqXMp8wDy9fxhGJBQyDm0OkKk)"
      ],
      "metadata": {
        "id": "IzHck5ZDb4Oy"
      }
    },
    {
      "cell_type": "markdown",
      "source": [
        "# Installing Pytorch\n",
        "\n",
        "![image](https://drive.google.com/uc?id=1WR9TZTNJWFgzmmhKlBaX8U8v0jr7V_JZ)\n",
        "\n",
        "if you want to use conda, you have to install Anaconda,\n",
        "https://www.anaconda.com/products/distribution"
      ],
      "metadata": {
        "id": "CG77MdQZeMaS"
      }
    },
    {
      "cell_type": "markdown",
      "source": [
        "# Check pytorch version.\n",
        "![image](https://drive.google.com/uc?id=1E42MBBsVsmt6JJaqsVtLa9_0_pe0NSaj)"
      ],
      "metadata": {
        "id": "RadrzMKafDHr"
      }
    },
    {
      "cell_type": "code",
      "source": [
        "# Do it here."
      ],
      "metadata": {
        "id": "A-qmoOIHaTiz"
      },
      "execution_count": 1,
      "outputs": []
    },
    {
      "cell_type": "markdown",
      "source": [
        "# Creating tensors in Pytorch\n",
        "\n",
        "\n",
        "1.   From list\n",
        "2.   From NumPy array\n",
        "\n",
        "![image](https://drive.google.com/uc?id=1tWhkELiPy2p_zOZcURqCGQx6gKu3r3Q2)\n",
        "\n"
      ],
      "metadata": {
        "id": "50Gh3dgXf7E3"
      }
    },
    {
      "cell_type": "code",
      "source": [
        "# Do it here"
      ],
      "metadata": {
        "id": "RUCmriWOfmre"
      },
      "execution_count": 2,
      "outputs": []
    },
    {
      "cell_type": "markdown",
      "source": [
        "# Check properties of tensors\n",
        "![image](https://drive.google.com/uc?id=13YvZNs1hYQ0eUHe3wUmOyhI-Y5Vi-0Ox)"
      ],
      "metadata": {
        "id": "_6OccwXqhGwB"
      }
    },
    {
      "cell_type": "code",
      "source": [
        "# Do it here"
      ],
      "metadata": {
        "id": "DdvpHgfbgukP"
      },
      "execution_count": 3,
      "outputs": []
    },
    {
      "cell_type": "markdown",
      "source": [
        "# A tensor of random values\n",
        "![image](https://drive.google.com/uc?id=1hKsitTwlIJz0ERsmcBQYlLERXlmc-2Z9)"
      ],
      "metadata": {
        "id": "TKhuRcoxhvzC"
      }
    },
    {
      "cell_type": "code",
      "source": [
        "# Do it here"
      ],
      "metadata": {
        "id": "ts3PyB0lip-h"
      },
      "execution_count": 4,
      "outputs": []
    },
    {
      "cell_type": "markdown",
      "source": [
        "# Change data type\n",
        "\n",
        "![image](https://drive.google.com/uc?id=1T8f94AMhErLGRSF9wQVcA-GHhRLDeoxq)"
      ],
      "metadata": {
        "id": "urwZNUfKjd4S"
      }
    },
    {
      "cell_type": "code",
      "source": [
        "#  Do it here"
      ],
      "metadata": {
        "id": "t1uW06uJkpeT"
      },
      "execution_count": null,
      "outputs": []
    },
    {
      "cell_type": "markdown",
      "source": [
        "# Transpose, Reshaping and squeeze (removing dimensions)\n",
        "\n",
        "\n"
      ],
      "metadata": {
        "id": "b69scWumi0As"
      }
    },
    {
      "cell_type": "markdown",
      "source": [
        "## Transpose\n",
        "![image](https://drive.google.com/uc?id=1AW4-3u_JiT8FI_2pthw3H2h-85XzD7Z2)\n",
        "\n"
      ],
      "metadata": {
        "id": "FBMP5xStpdrc"
      }
    },
    {
      "cell_type": "code",
      "source": [
        "# Try it here."
      ],
      "metadata": {
        "id": "a01OiZORpgqc"
      },
      "execution_count": 8,
      "outputs": []
    },
    {
      "cell_type": "markdown",
      "source": [
        "## Reshaping\n",
        "![image](https://drive.google.com/uc?id=1m00TET_VoEHdxiJZN18Y7szX_Q-IwKbs)\n"
      ],
      "metadata": {
        "id": "O1e4loKRpPoY"
      }
    },
    {
      "cell_type": "code",
      "source": [
        "#Try it here."
      ],
      "metadata": {
        "id": "zdeHWfElpjKt"
      },
      "execution_count": 9,
      "outputs": []
    },
    {
      "cell_type": "markdown",
      "source": [
        "## squeeze\n",
        "![image](https://drive.google.com/uc?id=1Z8LlVgxbX8buOfNvwatbcRrANMK1XuYI)"
      ],
      "metadata": {
        "id": "HYAt2RLrpQA-"
      }
    },
    {
      "cell_type": "code",
      "source": [
        "# Try it here."
      ],
      "metadata": {
        "id": "wU0yUWbGpXfG"
      },
      "execution_count": null,
      "outputs": []
    },
    {
      "cell_type": "markdown",
      "source": [
        "# Mathematical operations\n",
        "\n",
        "## initialte two random tensors\n",
        "\n",
        "\n",
        "1.   one from uniform distributin [-1, 1)\n",
        "2.   one from standard normal distribution\n",
        "\n",
        "\n",
        "![image](https://drive.google.com/uc?id=1NYLGZOhgBAm-wEnjxx1iIPL7vkA7bwE7)\n",
        "\n",
        "## Element-wise product t1 and t2 \n",
        "\n",
        "![image](https://drive.google.com/uc?id=1li96dqMOD6vq6PTUtRKl-pnGtffynkMV)\n",
        "\n",
        "## computing mean, sum, std, for example, torch.mean()\n",
        "\n",
        "![image](https://drive.google.com/uc?id=1hR87UKrN5p-BtSSxWRHf83fnk7i9PbNK)\n",
        "\n",
        "## matrix-matrix product between t1 and t2\n",
        "### t1 x transpose(t2)\n",
        "![image](https://drive.google.com/uc?id=1Hs8iBnovlvwbw14WblT-3swj6ravvLuP)\n",
        "\n",
        "### transpose(t1) x t2\n",
        "![image](https://drive.google.com/uc?id=1vIjuMDcSrWab5c9Rw0L07QWuLu-qitI1)\n",
        "\n",
        "\n",
        "## norm\n",
        "![image](https://drive.google.com/uc?id=1mPF3D0o-v7bnJtrg6FedSycXi2C1gCpR)"
      ],
      "metadata": {
        "id": "aUcg1jH7mnZp"
      }
    },
    {
      "cell_type": "code",
      "source": [
        "# initialize t1 and t2 here"
      ],
      "metadata": {
        "id": "mKgkAtawl7kQ"
      },
      "execution_count": 8,
      "outputs": []
    },
    {
      "cell_type": "code",
      "source": [
        "# Element-wise product of t1 and t2"
      ],
      "metadata": {
        "id": "ToHK0-4OsgHA"
      },
      "execution_count": 10,
      "outputs": []
    },
    {
      "cell_type": "code",
      "source": [
        "# t1 x transpose(t2)"
      ],
      "metadata": {
        "id": "g3zcl98jsp7C"
      },
      "execution_count": 13,
      "outputs": []
    },
    {
      "cell_type": "code",
      "source": [
        "# transpose(t1) x t2"
      ],
      "metadata": {
        "id": "VNXGYDuIsvTY"
      },
      "execution_count": 14,
      "outputs": []
    },
    {
      "cell_type": "code",
      "source": [
        "# norm"
      ],
      "metadata": {
        "id": "aa_mv5CpsxmD"
      },
      "execution_count": 15,
      "outputs": []
    },
    {
      "cell_type": "markdown",
      "source": [
        "# Split, stack and concatenate"
      ],
      "metadata": {
        "id": "NfhrknL0urat"
      }
    },
    {
      "cell_type": "markdown",
      "source": [
        "## torch.chuck()\n",
        "![image](https://drive.google.com/uc?id=1gyZTBpuWmdF-eVAlE91UE7am9YxyuIGO)"
      ],
      "metadata": {
        "id": "p_EroJshiIY2"
      }
    },
    {
      "cell_type": "code",
      "source": [
        "# do it here"
      ],
      "metadata": {
        "id": "Li_k1Fe0jSlP"
      },
      "execution_count": 1,
      "outputs": []
    },
    {
      "cell_type": "markdown",
      "source": [
        "## torch.split()\n",
        "![image](https://drive.google.com/uc?id=1jZKXoAkVR-r-xa3iMtogbha_b6xI9g3x)"
      ],
      "metadata": {
        "id": "QnK3rJhgjRXn"
      }
    },
    {
      "cell_type": "code",
      "source": [
        "# Do it here."
      ],
      "metadata": {
        "id": "sryfrisgumrf"
      },
      "execution_count": 2,
      "outputs": []
    },
    {
      "cell_type": "markdown",
      "source": [
        "## torch.cat()\n",
        "![image](https://drive.google.com/uc?id=1yuAEVIdySBcTmkrDNv6cg-5SSm29Bk-x)"
      ],
      "metadata": {
        "id": "J6so891rkxFu"
      }
    },
    {
      "cell_type": "code",
      "source": [
        "# Do it here."
      ],
      "metadata": {
        "id": "54pH3oIrlaf1"
      },
      "execution_count": 3,
      "outputs": []
    },
    {
      "cell_type": "markdown",
      "source": [
        "## torch.stack()\n",
        "\n",
        "![image](https://drive.google.com/uc?id=1DO2JJWWtQrKnzTn9vuM5t20_ZCuY6MEt)"
      ],
      "metadata": {
        "id": "wuqo6cf4k1f5"
      }
    },
    {
      "cell_type": "code",
      "source": [
        "# Do if here."
      ],
      "metadata": {
        "id": "fdjAbQEEls0a"
      },
      "execution_count": 4,
      "outputs": []
    },
    {
      "cell_type": "markdown",
      "source": [
        "# Pytorch input pipeline"
      ],
      "metadata": {
        "id": "td0yytE1uxvu"
      }
    },
    {
      "cell_type": "markdown",
      "source": [
        "## Pytorch dataloader from existing tensor\n",
        "\n",
        "![image](https://drive.google.com/uc?id=1Qthf6arnlEEOs62RRJH_pXyhzgSPoDTP)\n",
        "\n",
        "\n",
        "\n",
        "\n",
        "\n"
      ],
      "metadata": {
        "id": "WA3ezjKxvOJP"
      }
    },
    {
      "cell_type": "code",
      "source": [
        "# Try it here."
      ],
      "metadata": {
        "id": "EDW6hJMxmy3N"
      },
      "execution_count": 5,
      "outputs": []
    },
    {
      "cell_type": "markdown",
      "source": [
        "![image](https://drive.google.com/uc?id=1nQZVydwGa9N8skZ3Kgt7zrWcFckGadPh)"
      ],
      "metadata": {
        "id": "QYD3WlHXnrGc"
      }
    },
    {
      "cell_type": "code",
      "source": [
        "# Try it here."
      ],
      "metadata": {
        "id": "iIJ1VYAAn5xB"
      },
      "execution_count": 6,
      "outputs": []
    },
    {
      "cell_type": "markdown",
      "source": [
        "##  Two tensors into a joint dataset\n",
        "\n",
        "![image](https://drive.google.com/uc?id=1nQZVydwGa9N8skZ3Kgt7zrWcFckGadPh)\n",
        "![image](https://drive.google.com/uc?id=1reDM7iTD2hS_7Ry-4r4BOznB_CxSRfkL)\n",
        "![image](https://drive.google.com/uc?id=17_tW8itbwwo42JiOZCZQJmivmLm9dPz-)\n",
        "![image](https://drive.google.com/uc?id=1Dx3hOp31fj9Jl6otp65yGLNBcoVCyGLN)"
      ],
      "metadata": {
        "id": "CTAFbjR7kIzT"
      }
    },
    {
      "cell_type": "code",
      "source": [
        "# Try it here."
      ],
      "metadata": {
        "id": "U8BO8RzMpG0J"
      },
      "execution_count": 7,
      "outputs": []
    },
    {
      "cell_type": "markdown",
      "source": [
        "## Shuffle,batch and repeat\n",
        "\n",
        "![image](https://drive.google.com/uc?id=1hnSicvXzjipr-1q6ssWlwfZourK5kRCO)\n",
        "\n",
        "![image](https://drive.google.com/uc?id=1WcSR0ZqPdHDdUPTecdSM_zOVY3_AarjD)"
      ],
      "metadata": {
        "id": "DGF5Jmt-kJyH"
      }
    },
    {
      "cell_type": "code",
      "source": [
        "# Try this here."
      ],
      "metadata": {
        "id": "_kER7yNVyARg"
      },
      "execution_count": 10,
      "outputs": []
    },
    {
      "cell_type": "markdown",
      "source": [
        "![image](https://drive.google.com/uc?id=14_w7cS3GCgoCHCFgyHogaLjIiQLEbwO8)"
      ],
      "metadata": {
        "id": "xQiHQVgMxZat"
      }
    },
    {
      "cell_type": "code",
      "source": [
        "# Try this."
      ],
      "metadata": {
        "id": "r4Y8TV0myf6L"
      },
      "execution_count": null,
      "outputs": []
    },
    {
      "cell_type": "markdown",
      "source": [
        "## Dataset from local files"
      ],
      "metadata": {
        "id": "Nrmd7YXFkKda"
      }
    },
    {
      "cell_type": "code",
      "source": [
        "# Downloading data\n",
        "! pip install gdown\n",
        "! gdown https://drive.google.com/uc?id=1aMVH208PxvH1jkYdVe_KHCj4Sp_g73xE\n"
      ],
      "metadata": {
        "colab": {
          "base_uri": "https://localhost:8080/"
        },
        "id": "Grec-RrtzYCi",
        "outputId": "9e59f0be-dc7b-401c-c481-0fce63f7fecf"
      },
      "execution_count": 15,
      "outputs": [
        {
          "output_type": "stream",
          "name": "stdout",
          "text": [
            "Looking in indexes: https://pypi.org/simple, https://us-python.pkg.dev/colab-wheels/public/simple/\n",
            "Requirement already satisfied: gdown in /usr/local/lib/python3.7/dist-packages (4.4.0)\n",
            "Requirement already satisfied: beautifulsoup4 in /usr/local/lib/python3.7/dist-packages (from gdown) (4.6.3)\n",
            "Requirement already satisfied: tqdm in /usr/local/lib/python3.7/dist-packages (from gdown) (4.64.0)\n",
            "Requirement already satisfied: filelock in /usr/local/lib/python3.7/dist-packages (from gdown) (3.8.0)\n",
            "Requirement already satisfied: requests[socks] in /usr/local/lib/python3.7/dist-packages (from gdown) (2.23.0)\n",
            "Requirement already satisfied: six in /usr/local/lib/python3.7/dist-packages (from gdown) (1.15.0)\n",
            "Requirement already satisfied: idna<3,>=2.5 in /usr/local/lib/python3.7/dist-packages (from requests[socks]->gdown) (2.10)\n",
            "Requirement already satisfied: certifi>=2017.4.17 in /usr/local/lib/python3.7/dist-packages (from requests[socks]->gdown) (2022.6.15)\n",
            "Requirement already satisfied: urllib3!=1.25.0,!=1.25.1,<1.26,>=1.21.1 in /usr/local/lib/python3.7/dist-packages (from requests[socks]->gdown) (1.24.3)\n",
            "Requirement already satisfied: chardet<4,>=3.0.2 in /usr/local/lib/python3.7/dist-packages (from requests[socks]->gdown) (3.0.4)\n",
            "Requirement already satisfied: PySocks!=1.5.7,>=1.5.6 in /usr/local/lib/python3.7/dist-packages (from requests[socks]->gdown) (1.7.1)\n",
            "Downloading...\n",
            "From: https://drive.google.com/uc?id=1aMVH208PxvH1jkYdVe_KHCj4Sp_g73xE\n",
            "To: /content/dogs-vs-cats.zip\n",
            "100% 852M/852M [00:20<00:00, 42.1MB/s]\n"
          ]
        }
      ]
    },
    {
      "cell_type": "code",
      "source": [
        "! unzip  /content/dogs-vs-cats.zip"
      ],
      "metadata": {
        "colab": {
          "base_uri": "https://localhost:8080/"
        },
        "id": "V-cAUjUI2B6x",
        "outputId": "d0c4f0fe-114e-41fa-8418-786c658863d5"
      },
      "execution_count": 17,
      "outputs": [
        {
          "output_type": "stream",
          "name": "stdout",
          "text": [
            "Archive:  /content/dogs-vs-cats.zip\n",
            "  inflating: sampleSubmission.csv    \n",
            "  inflating: test1.zip               \n",
            "  inflating: train.zip               \n"
          ]
        }
      ]
    },
    {
      "cell_type": "code",
      "source": [
        "!unzip /content/test1.zip"
      ],
      "metadata": {
        "id": "uttv1TXM2jwP"
      },
      "execution_count": null,
      "outputs": []
    },
    {
      "cell_type": "markdown",
      "source": [
        "![image](https://drive.google.com/uc?id=1ryYFEfw1T8-d0WvfYOtFCs_5Qq1PlkrW)"
      ],
      "metadata": {
        "id": "GNz9xATd4JWb"
      }
    },
    {
      "cell_type": "code",
      "source": [
        "# Try here.\n"
      ],
      "metadata": {
        "id": "NYnXAbGX7rld"
      },
      "execution_count": 19,
      "outputs": []
    },
    {
      "cell_type": "markdown",
      "source": [
        "![image](https://drive.google.com/uc?id=1hneSK5dEONnhV7rMzgxj0zcI907oVMCs)"
      ],
      "metadata": {
        "id": "IwCkkZBq7jzt"
      }
    },
    {
      "cell_type": "code",
      "source": [
        "# Try here."
      ],
      "metadata": {
        "id": "sIIKR7We7uCE"
      },
      "execution_count": 20,
      "outputs": []
    },
    {
      "cell_type": "markdown",
      "source": [
        "![image](https://drive.google.com/uc?id=1eyZM_XE5fgdNjxsKpzyBbzoocu2zgJJC)"
      ],
      "metadata": {
        "id": "bP4aXlYl784R"
      }
    },
    {
      "cell_type": "code",
      "source": [
        "# Try here."
      ],
      "metadata": {
        "id": "HIX5GDat8HPN"
      },
      "execution_count": 21,
      "outputs": []
    },
    {
      "cell_type": "markdown",
      "source": [
        "![image](https://drive.google.com/uc?id=1vJm-AauzgGHxZZysdw56w2ZGhgmtQLPi)"
      ],
      "metadata": {
        "id": "el1K-U0f8xda"
      }
    },
    {
      "cell_type": "code",
      "source": [
        "# Try here"
      ],
      "metadata": {
        "id": "dI2tmXQn83ak"
      },
      "execution_count": 22,
      "outputs": []
    },
    {
      "cell_type": "markdown",
      "source": [
        "![image](https://drive.google.com/uc?id=1w6aE8SPTp1U6lsJNXh2mCHLqb7XpZmRQ)\n",
        "\n",
        "![image](https://drive.google.com/uc?id=1aYFdI3GEsAvuRaJZ9qZLYpyw8U3yoLgP)\n",
        "\n",
        "![image](https://drive.google.com/uc?id=1UKzowArPOqrMMxKRGs8T01FyDwz6QE_p)"
      ],
      "metadata": {
        "id": "9o8Ozhv7856o"
      }
    },
    {
      "cell_type": "code",
      "source": [
        "# Try here."
      ],
      "metadata": {
        "id": "wN2jgy3Y9dne"
      },
      "execution_count": 23,
      "outputs": []
    },
    {
      "cell_type": "markdown",
      "source": [
        "## Torchvision.datasets\n",
        "\n",
        "https://pytorch.org/vision/stable/datasets.html#celeba"
      ],
      "metadata": {
        "id": "08AlAUxUkK4Y"
      }
    },
    {
      "cell_type": "markdown",
      "source": [
        "![image](https://drive.google.com/uc?id=1XXEQXzcR2NqUA_VcQQpntCCLp1mKiGRK)"
      ],
      "metadata": {
        "id": "1WLcfevVkLDc"
      }
    },
    {
      "cell_type": "code",
      "source": [
        "# Try here."
      ],
      "metadata": {
        "id": "Wq4y3fC3Z5H4"
      },
      "execution_count": 1,
      "outputs": []
    },
    {
      "cell_type": "markdown",
      "source": [
        "![image](https://drive.google.com/uc?id=1JuesikP_HXK7D2WpIo83jDRA_mbOgzlL)\n",
        "\n",
        "![image](https://drive.google.com/uc?id=1A03x9anmUbsxuRn_GkOSgusCYW1sVXBS)\n",
        "\n"
      ],
      "metadata": {
        "id": "akVHL-ZtZjGw"
      }
    },
    {
      "cell_type": "code",
      "source": [
        "# Try here."
      ],
      "metadata": {
        "id": "3vyRvZ58Z7sc"
      },
      "execution_count": 2,
      "outputs": []
    },
    {
      "cell_type": "markdown",
      "source": [
        "![image](https://drive.google.com/uc?id=1lBTi3n1LjmaV9xzNRwCdn6fJPZ4Nr6sF)"
      ],
      "metadata": {
        "id": "w2LuYmgaZ30C"
      }
    },
    {
      "cell_type": "code",
      "source": [
        "# Try here."
      ],
      "metadata": {
        "id": "xzE3-_uOaM9R"
      },
      "execution_count": null,
      "outputs": []
    },
    {
      "cell_type": "markdown",
      "source": [
        "![image](https://drive.google.com/uc?id=1nKm4b7hI1e-ArutFeAcg8Yez9fhT-nWR)"
      ],
      "metadata": {
        "id": "Q3bxBaawag2d"
      }
    },
    {
      "cell_type": "markdown",
      "source": [
        "# Building a NN  model in Pytorch\n",
        "\n"
      ],
      "metadata": {
        "id": "pLjLFtZBvvs0"
      }
    },
    {
      "cell_type": "markdown",
      "source": [
        "## Linear regression model"
      ],
      "metadata": {
        "id": "TTXjJrCta3Hv"
      }
    },
    {
      "cell_type": "markdown",
      "source": [
        "### First, simple dataset \n",
        "![image](https://drive.google.com/uc?id=1SuPhLL4iiuacMmH9J5o1FeDeB85XkiJK)"
      ],
      "metadata": {
        "id": "k1eidPCxayhu"
      }
    },
    {
      "cell_type": "markdown",
      "source": [
        "### Prepare the dataloader\n",
        "![image](https://drive.google.com/uc?id=11LNYj4qfvgARMQDfQTk3fERZ4QGsw88R)"
      ],
      "metadata": {
        "id": "HsewteRpcQua"
      }
    },
    {
      "cell_type": "markdown",
      "source": [
        "### Define a model function (later, we will use torch.nn)\n",
        "![image]()"
      ],
      "metadata": {
        "id": "4wdfg20ocqoe"
      }
    },
    {
      "cell_type": "markdown",
      "source": [
        "## Building a linear regression model"
      ],
      "metadata": {
        "id": "apCl8CGSwLk_"
      }
    },
    {
      "cell_type": "markdown",
      "source": [
        "## Model training via torch.nn  and torch.optim"
      ],
      "metadata": {
        "id": "-RYVylRLwUdn"
      }
    },
    {
      "cell_type": "code",
      "source": [],
      "metadata": {
        "id": "VBVaHBEku4po"
      },
      "execution_count": null,
      "outputs": []
    }
  ]
}