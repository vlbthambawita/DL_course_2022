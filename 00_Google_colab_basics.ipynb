{
  "nbformat": 4,
  "nbformat_minor": 0,
  "metadata": {
    "colab": {
      "name": "00_Google_colab_basics.ipynb",
      "provenance": [],
      "collapsed_sections": [],
      "toc_visible": true,
      "authorship_tag": "ABX9TyO4D/NMiKRNUd9q/oGBYiRy",
      "include_colab_link": true
    },
    "kernelspec": {
      "name": "python3",
      "display_name": "Python 3"
    },
    "language_info": {
      "name": "python"
    }
  },
  "cells": [
    {
      "cell_type": "markdown",
      "metadata": {
        "id": "view-in-github",
        "colab_type": "text"
      },
      "source": [
        "<a href=\"https://colab.research.google.com/github/vlbthambawita/DL_course_2022/blob/main/00_Google_colab_basics.ipynb\" target=\"_parent\"><img src=\"https://colab.research.google.com/assets/colab-badge.svg\" alt=\"Open In Colab\"/></a>"
      ]
    },
    {
      "cell_type": "markdown",
      "source": [
        "# Task 1: Resources to check and play around it\n",
        "\n",
        "![Image](https://drive.google.com/uc?id=1HxV4Ff-dY4TbQ2qpP2zGg11wLfbh9NtZ)\n",
        "\n",
        "1. ## [Google colab turorial](https://colab.research.google.com/?utm_source=scs-index)\n",
        "1. ## [AI Hub](https://aihub.cloud.google.com/u/0/)\n",
        "1. ## [Kaggle](https://www.kaggle.com/) 💰💰💰💰💰💰\n",
        "1. ## [Topcoder](https://www.topcoder.com/) 💰💰💰💰💰💰\n",
        "1. ## [Grand Challenge](https://grand-challenge.org/)\n",
        "1. ## [**Pytorch**](https://pytorch.org/) - We will use this framework in our classes\n",
        "  * check installation instruction\n",
        "  * Tutorial page\n",
        "  * Documentation\n",
        "\n",
        "1. ## [TensorFlow](https://www.tensorflow.org/)\n",
        "1. ## [mxnet](https://mxnet.apache.org/versions/1.9.1/)\n",
        "1. ## [Weights & Biases](https://wandb.ai/site)\n",
        "\n",
        "\n"
      ],
      "metadata": {
        "id": "4ecW88IDQ_wg"
      }
    },
    {
      "cell_type": "markdown",
      "source": [
        "# Task 2: Use Google colab calculate followings\n",
        "\n",
        "![image](https://drive.google.com/uc?id=1C0G3oCNDJaoyEoN53Tlhan_-s5VCNVSK)"
      ],
      "metadata": {
        "id": "fWiNzyTBlt9I"
      }
    },
    {
      "cell_type": "code",
      "source": [
        "# Number of minutes per year"
      ],
      "metadata": {
        "id": "DCGybq-OlyVB"
      },
      "execution_count": 15,
      "outputs": []
    },
    {
      "cell_type": "code",
      "source": [
        "# Number of seconds per year (using the above calculation)"
      ],
      "metadata": {
        "id": "-8ebZ5kqmIHu"
      },
      "execution_count": 4,
      "outputs": []
    },
    {
      "cell_type": "markdown",
      "source": [
        "# Task 3: Overview of Colaboratory Features \n",
        "Follow this [link](https://colab.research.google.com/notebooks/basic_features_overview.ipynb) and do them yourself. "
      ],
      "metadata": {
        "id": "hF-76fMozG4u"
      }
    },
    {
      "cell_type": "markdown",
      "source": [
        "# Task 4: Google colab Markdown.\n",
        "Follow this notebook [link](https://colab.research.google.com/notebooks/markdown_guide.ipynb) and play with it. Add new markdown cells and practice your own. 😇\n",
        "\n"
      ],
      "metadata": {
        "id": "SuQaaXb0rSDl"
      }
    },
    {
      "cell_type": "markdown",
      "source": [
        "# Task 5: Importing libraries and installing dependencies\n",
        "Try this yourself: [Link](https://colab.research.google.com/notebooks/snippets/importing_libraries.ipynb)"
      ],
      "metadata": {
        "id": "bHbcLhvJ0sFP"
      }
    },
    {
      "cell_type": "markdown",
      "source": [
        "# Task 6 : Save your work (Google drive and Github)\n",
        "How❓ [Link](https://colab.research.google.com/github/googlecolab/colabtools/blob/main/notebooks/colab-github-demo.ipynb)"
      ],
      "metadata": {
        "id": "n68kI-IB3XmL"
      }
    },
    {
      "cell_type": "markdown",
      "source": [
        "# Task 7: Interactive features\n",
        "Do it yourself 🦾 : [Link 1](https://colab.research.google.com/notebooks/forms.ipynb), [Link 2]()"
      ],
      "metadata": {
        "id": "2seMLKDB39JR"
      }
    },
    {
      "cell_type": "markdown",
      "source": [
        "# Task 8: External data: Local Files, Drive, Sheets, and Cloud Storage\n",
        "\n",
        "Do this: [Link](https://colab.research.google.com/notebooks/io.ipynb)"
      ],
      "metadata": {
        "id": "ROJX3KiQ_RrF"
      }
    },
    {
      "cell_type": "markdown",
      "source": [
        "# Task 9: Chart Options\n",
        "\n",
        "Follow and do this: [Link](https://colab.research.google.com/notebooks/charts.ipynb)"
      ],
      "metadata": {
        "id": "Ks4NCD-YAYtD"
      }
    },
    {
      "cell_type": "markdown",
      "source": [
        "# Task 10: pandas DataFrames\n",
        "Try these yourself: [Link 1](https://colab.research.google.com/notebooks/mlcc/intro_to_pandas.ipynb), [Link 2](https://pandas.pydata.org/docs/user_guide/10min.html)"
      ],
      "metadata": {
        "id": "y2jT-ow_CAOO"
      }
    },
    {
      "cell_type": "markdown",
      "source": [
        "# Task 11: How to use GPUs\n",
        "Try: [Link](https://colab.research.google.com/notebooks/mlcc/intro_to_pandas.ipynb)"
      ],
      "metadata": {
        "id": "Qq-YekblCdKF"
      }
    },
    {
      "cell_type": "markdown",
      "source": [
        "# Task 12: What is Tensorboard?\n",
        "[Link](https://colab.research.google.com/github/pytorch/tutorials/blob/gh-pages/_downloads/tensorboard_with_pytorch.ipynb)"
      ],
      "metadata": {
        "id": "xBiLbv6YDYKN"
      }
    },
    {
      "cell_type": "markdown",
      "source": [
        "# Task 13: How to use Weights and Biases with notebooks\n",
        "[Link](https://colab.research.google.com/github/wandb/examples/blob/master/colabs/intro/Intro_to_Weights_%26_Biases.ipynb)"
      ],
      "metadata": {
        "id": "ZXO0B0G6Geqf"
      }
    },
    {
      "cell_type": "markdown",
      "source": [
        "![picture](https://drive.google.com/uc?id=1upCEgN0C03eQ4iaFezf7o6GyqJybxq2r)\n",
        "\n",
        "---\n",
        "\n"
      ],
      "metadata": {
        "id": "ydE0NRnVHxGA"
      }
    }
  ]
}