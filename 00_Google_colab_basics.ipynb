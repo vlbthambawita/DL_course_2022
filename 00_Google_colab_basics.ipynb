{
  "nbformat": 4,
  "nbformat_minor": 0,
  "metadata": {
    "colab": {
      "name": "00_Google_colab_basics.ipynb",
      "provenance": [],
      "collapsed_sections": [],
      "authorship_tag": "ABX9TyNCMEBq1gw1OG90ABPSqfq8",
      "include_colab_link": true
    },
    "kernelspec": {
      "name": "python3",
      "display_name": "Python 3"
    },
    "language_info": {
      "name": "python"
    }
  },
  "cells": [
    {
      "cell_type": "markdown",
      "metadata": {
        "id": "view-in-github",
        "colab_type": "text"
      },
      "source": [
        "<a href=\"https://colab.research.google.com/github/vlbthambawita/DL_course_2022/blob/main/00_Google_colab_basics.ipynb\" target=\"_parent\"><img src=\"https://colab.research.google.com/assets/colab-badge.svg\" alt=\"Open In Colab\"/></a>"
      ]
    },
    {
      "cell_type": "markdown",
      "source": [
        "# Task 1: Resources to check and play around it\n",
        "\n",
        "![Image](https://drive.google.com/uc?id=1HxV4Ff-dY4TbQ2qpP2zGg11wLfbh9NtZ)\n",
        "\n",
        "1. ## [Google colab turorial](https://colab.research.google.com/?utm_source=scs-index)\n",
        "1. ## [AI Hub](https://aihub.cloud.google.com/u/0/)\n",
        "1. ## [Kaggle](https://www.kaggle.com/) 💰💰💰💰💰💰\n",
        "1. ## [Topcoder](https://www.topcoder.com/) 💰💰💰💰💰💰\n",
        "1. ## [Grand Challenge](https://grand-challenge.org/)\n",
        "1. ## [**Pytorch**](https://pytorch.org/) - We will use this framework in our classes\n",
        "  * check installation instruction\n",
        "  * Tutorial page\n",
        "  * Documentation\n",
        "\n",
        "1. ## [TensorFlow](https://www.tensorflow.org/)\n",
        "1. ## [mxnet](https://mxnet.apache.org/versions/1.9.1/)\n",
        "1. ## [Weights & Biases](https://wandb.ai/site)\n",
        "\n",
        "\n"
      ],
      "metadata": {
        "id": "4ecW88IDQ_wg"
      }
    },
    {
      "cell_type": "markdown",
      "source": [
        "# Task 2: Use Google colab calculate followings\n",
        "\n",
        "![image](https://drive.google.com/uc?id=1C0G3oCNDJaoyEoN53Tlhan_-s5VCNVSK)"
      ],
      "metadata": {
        "id": "fWiNzyTBlt9I"
      }
    },
    {
      "cell_type": "code",
      "source": [
        "# Number of minutes per year"
      ],
      "metadata": {
        "id": "DCGybq-OlyVB"
      },
      "execution_count": 3,
      "outputs": []
    },
    {
      "cell_type": "code",
      "source": [
        "# Number of seconds per year (using the above calculation)"
      ],
      "metadata": {
        "id": "-8ebZ5kqmIHu"
      },
      "execution_count": 4,
      "outputs": []
    },
    {
      "cell_type": "markdown",
      "source": [
        "# Task 3: Google colab Markdown.\n",
        "Follow this notebook [link](https://colab.research.google.com/notebooks/markdown_guide.ipynb) and play with it. Add new markdown cells and practice your own. 😇\n",
        "\n"
      ],
      "metadata": {
        "id": "SuQaaXb0rSDl"
      }
    },
    {
      "cell_type": "code",
      "source": [
        ""
      ],
      "metadata": {
        "id": "4EVPsCwTuNde"
      },
      "execution_count": null,
      "outputs": []
    }
  ]
}